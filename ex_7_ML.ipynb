{
  "nbformat": 4,
  "nbformat_minor": 0,
  "metadata": {
    "colab": {
      "provenance": [],
      "authorship_tag": "ABX9TyOSEM9HIRfi4EXYpBaK83yu",
      "include_colab_link": true
    },
    "kernelspec": {
      "name": "python3",
      "display_name": "Python 3"
    },
    "language_info": {
      "name": "python"
    }
  },
  "cells": [
    {
      "cell_type": "markdown",
      "metadata": {
        "id": "view-in-github",
        "colab_type": "text"
      },
      "source": [
        "<a href=\"https://colab.research.google.com/github/Abhishekray9939/hello-Abhishek/blob/main/ex_7_ML.ipynb\" target=\"_parent\"><img src=\"https://colab.research.google.com/assets/colab-badge.svg\" alt=\"Open In Colab\"/></a>"
      ]
    },
    {
      "cell_type": "code",
      "execution_count": 5,
      "metadata": {
        "colab": {
          "base_uri": "https://localhost:8080/"
        },
        "id": "voxhV7zxyjo6",
        "outputId": "569709ed-402b-433a-fcaf-4b4121c0bd0c"
      },
      "outputs": [
        {
          "output_type": "stream",
          "name": "stdout",
          "text": [
            "      Id  SepalLengthCm  SepalWidthCm  PetalLengthCm  PetalWidthCm  \\\n",
            "0      1            5.1           3.5            1.4           0.2   \n",
            "1      2            4.9           3.0            1.4           0.2   \n",
            "2      3            4.7           3.2            1.3           0.2   \n",
            "3      4            4.6           3.1            1.5           0.2   \n",
            "4      5            5.0           3.6            1.4           0.2   \n",
            "..   ...            ...           ...            ...           ...   \n",
            "145  146            6.7           3.0            5.2           2.3   \n",
            "146  147            6.3           2.5            5.0           1.9   \n",
            "147  148            6.5           3.0            5.2           2.0   \n",
            "148  149            6.2           3.4            5.4           2.3   \n",
            "149  150            5.9           3.0            5.1           1.8   \n",
            "\n",
            "            Species  \n",
            "0       Iris-setosa  \n",
            "1       Iris-setosa  \n",
            "2       Iris-setosa  \n",
            "3       Iris-setosa  \n",
            "4       Iris-setosa  \n",
            "..              ...  \n",
            "145  Iris-virginica  \n",
            "146  Iris-virginica  \n",
            "147  Iris-virginica  \n",
            "148  Iris-virginica  \n",
            "149  Iris-virginica  \n",
            "\n",
            "[150 rows x 6 columns]\n",
            "[4.79981291 3.75365687 4.23071652 2.53036602 4.92815388 4.58082293\n",
            " 4.27534715 5.97708539 2.52897828 6.1932999  3.57790979 4.88629871\n",
            " 2.05191863 1.61393868 1.13687903 4.71193937 4.66730874 3.18733594\n",
            " 3.84014267 1.26383227 2.00867573 2.40341278 4.14700618 4.53758003\n",
            " 1.39772417 5.14714385 2.1370167  3.66578333 1.96265736 4.71055164] \n",
            "\n",
            "Mean Absoute Error:  0.48199264576658224\n",
            "Mean Squeared Error:  0.33353388874517936\n",
            "RMSE:  0.5775239291537445\n"
          ]
        }
      ],
      "source": [
        "import pandas as pd\n",
        "iris = pd.read_csv(\"/content/IRIS.csv\")\n",
        "print(iris)\n",
        "\n",
        "import numpy as np\n",
        "\n",
        "x = iris[['SepalLengthCm', 'SepalWidthCm']]\n",
        "y = iris.PetalLengthCm\n",
        "\n",
        "from sklearn.model_selection import train_test_split\n",
        "x_train, x_test, y_train, y_test = train_test_split(x,y,test_size=0.2)\n",
        "\n",
        "from sklearn.linear_model import LinearRegression\n",
        "LR = LinearRegression()\n",
        "\n",
        "training = LR.fit(x_train, y_train)\n",
        "y_pred = LR.predict(x_test)\n",
        "print(y_pred, \"\\n\")\n",
        "\n",
        "#pip install numpy\n",
        "import numpy as np\n",
        "from sklearn import metrics\n",
        "\n",
        "MAE = metrics.mean_absolute_error(y_test, y_pred)\n",
        "print(\"Mean Absoute Error: \", MAE)\n",
        "MSE = metrics.mean_squared_error(y_test, y_pred)\n",
        "print(\"Mean Squeared Error: \", MSE)\n",
        "RMSE = np.sqrt(metrics.mean_squared_error(y_test, y_pred))\n",
        "print(\"RMSE: \", RMSE)"
      ]
    },
    {
      "cell_type": "code",
      "source": [
        "import numpy as np\n",
        "\n",
        "x = iris[['SepalLengthCm']]\n",
        "y = iris.PetalLengthCm\n",
        "\n",
        "from sklearn.model_selection import train_test_split\n",
        "x_train, x_test, y_train, y_test = train_test_split(x,y,test_size=0.2)\n",
        "\n",
        "from sklearn.linear_model import LinearRegression\n",
        "LR = LinearRegression()\n",
        "\n",
        "training = LR.fit(x_train, y_train)\n",
        "y_pred = LR.predict(x_test)\n",
        "print(y_pred, \"\\n\")\n",
        "\n",
        "#pip install numpy\n",
        "import numpy as np\n",
        "from sklearn import metrics\n",
        "\n",
        "MAE = metrics.mean_absolute_error(y_test, y_pred)\n",
        "print(\"Mean Absoute Error: \", MAE)\n",
        "MSE = metrics.mean_squared_error(y_test, y_pred)\n",
        "print(\"Mean Squeared Error: \", MSE)\n",
        "RMSE = np.sqrt(metrics.mean_squared_error(y_test, y_pred))\n",
        "print(\"RMSE: \", RMSE)"
      ],
      "metadata": {
        "colab": {
          "base_uri": "https://localhost:8080/"
        },
        "id": "rCvwTAlWzgdU",
        "outputId": "8c1f47a5-076f-42d7-ce47-739441d44308"
      },
      "execution_count": 7,
      "outputs": [
        {
          "output_type": "stream",
          "name": "stdout",
          "text": [
            "[3.08955476 3.64950816 4.20946155 4.20946155 4.20946155 4.39611268\n",
            " 5.7026706  2.52960137 5.32936834 1.96964798 1.40969458 2.15629911\n",
            " 2.15629911 2.90290363 4.58276381 4.02281042 3.27620589 3.46285703\n",
            " 5.32936834 4.58276381 5.32936834 4.95606607 7.19587965 2.34295024\n",
            " 1.78299684 3.64950816 4.76941494 1.96964798 3.46285703 1.22304345] \n",
            "\n",
            "Mean Absoute Error:  0.8638361070439186\n",
            "Mean Squeared Error:  1.1518371230223219\n",
            "RMSE:  1.073236750685664\n"
          ]
        }
      ]
    }
  ]
}