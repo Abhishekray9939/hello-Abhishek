{
  "nbformat": 4,
  "nbformat_minor": 0,
  "metadata": {
    "colab": {
      "provenance": [],
      "authorship_tag": "ABX9TyOq7PSofv7espCaKQ43zKU1",
      "include_colab_link": true
    },
    "kernelspec": {
      "name": "python3",
      "display_name": "Python 3"
    },
    "language_info": {
      "name": "python"
    }
  },
  "cells": [
    {
      "cell_type": "markdown",
      "metadata": {
        "id": "view-in-github",
        "colab_type": "text"
      },
      "source": [
        "<a href=\"https://colab.research.google.com/github/Abhishekray9939/hello-Abhishek/blob/main/Decision_tree.ipynb\" target=\"_parent\"><img src=\"https://colab.research.google.com/assets/colab-badge.svg\" alt=\"Open In Colab\"/></a>"
      ]
    },
    {
      "cell_type": "code",
      "execution_count": 1,
      "metadata": {
        "colab": {
          "base_uri": "https://localhost:8080/"
        },
        "id": "rDjqSwXrroQt",
        "outputId": "157fa07b-2fdf-4708-bab1-d9a54e01e8a6"
      },
      "outputs": [
        {
          "output_type": "stream",
          "name": "stdout",
          "text": [
            "[0 1 0 1 0 2 0 1 1 1 2 1 2 2 0 2 0 2 0 0 1 0 1 0 0 0 1 2 2 2]\n",
            "\n",
            "Accuracy :  0.9666666666666667\n",
            "Precision :  0.9629629629629629\n",
            "Recall :  0.9666666666666667\n",
            "F1-SCORE :  0.9628482972136222\n",
            "AUC :  0.9757575757575757\n"
          ]
        }
      ],
      "source": [
        "from sklearn import datasets\n",
        "iris = datasets.load_iris()\n",
        "\n",
        "x = iris.data\n",
        "y = iris.target\n",
        "\n",
        "from sklearn.model_selection import train_test_split\n",
        "x_train, x_test, y_train, y_test = train_test_split(x,y,train_size=0.8)\n",
        "\n",
        "from sklearn.tree import DecisionTreeClassifier\n",
        "DT = DecisionTreeClassifier()\n",
        "\n",
        "train = DT.fit(x_train, y_train)\n",
        "y_pred = DT.predict(x_test)\n",
        "print(y_pred)\n",
        "y_auc = DT.predict_proba(x_test)\n",
        "\n",
        "from sklearn.metrics import accuracy_score, precision_score, recall_score, f1_score, roc_auc_score\n",
        "Accuracy = accuracy_score(y_test, y_pred)\n",
        "Precision = precision_score(y_test, y_pred, average='macro')\n",
        "Recall = recall_score(y_test, y_pred, average='macro')\n",
        "f1 = f1_score(y_test, y_pred, average='macro')\n",
        "auc = roc_auc_score(y_test, y_auc, multi_class='ovr')\n",
        "\n",
        "print(\"\\nAccuracy : \", Accuracy)\n",
        "print(\"Precision : \", Precision)\n",
        "print(\"Recall : \", Recall)\n",
        "print(\"F1-SCORE : \", f1)\n",
        "print(\"AUC : \",auc)"
      ]
    }
  ]
}